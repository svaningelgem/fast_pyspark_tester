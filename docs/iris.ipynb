{
 "cells": [
  {
   "cell_type": "markdown",
   "metadata": {},
   "source": [
    "# Iris Dataset"
   ]
  },
  {
   "cell_type": "code",
   "execution_count": 1,
   "metadata": {},
   "outputs": [],
   "source": [
    "import fast_pyspark_tester\n",
    "c = fast_pyspark_tester.Context()"
   ]
  },
  {
   "cell_type": "code",
   "execution_count": 2,
   "metadata": {},
   "outputs": [
    {
     "data": {
      "text/plain": [
       "['5.1,3.5,1.4,0.2,Iris-setosa',\n",
       " '4.9,3.0,1.4,0.2,Iris-setosa',\n",
       " '4.7,3.2,1.3,0.2,Iris-setosa',\n",
       " '4.6,3.1,1.5,0.2,Iris-setosa',\n",
       " '5.0,3.6,1.4,0.2,Iris-setosa',\n",
       " '5.4,3.9,1.7,0.4,Iris-setosa',\n",
       " '4.6,3.4,1.4,0.3,Iris-setosa',\n",
       " '5.0,3.4,1.5,0.2,Iris-setosa',\n",
       " '4.4,2.9,1.4,0.2,Iris-setosa',\n",
       " '4.9,3.1,1.5,0.1,Iris-setosa']"
      ]
     },
     "execution_count": 2,
     "metadata": {},
     "output_type": "execute_result"
    }
   ],
   "source": [
    "# This iris dataset is documented at http://archive.ics.uci.edu/ml/datasets/Iris.\n",
    "# With scikit-learn, the iris dataset is also built-in (under scikit-learn.datasets.load_iris()).\n",
    "rdd = c.textFile('http://archive.ics.uci.edu/ml/machine-learning-databases/iris/iris.data').cache()\n",
    "rdd.take(10)"
   ]
  },
  {
   "cell_type": "code",
   "execution_count": 3,
   "metadata": {},
   "outputs": [],
   "source": [
    "def parse(line):\n",
    "    X, _, y = line.rpartition(',')\n",
    "    return (\n",
    "        [float(value) for value in X.split(',')],\n",
    "        y.replace('Iris-', ''),\n",
    "    )\n",
    "\n",
    "rdd = (rdd\n",
    "       .filter(lambda line: len(line) > 3)\n",
    "       .map(parse))\n",
    "train, test = rdd.randomSplit([0.7, 0.3])"
   ]
  },
  {
   "cell_type": "code",
   "execution_count": 4,
   "metadata": {},
   "outputs": [
    {
     "data": {
      "text/plain": [
       "[([5.1, 3.5, 1.4, 0.2], 'setosa'),\n",
       " ([4.7, 3.2, 1.3, 0.2], 'setosa'),\n",
       " ([4.6, 3.4, 1.4, 0.3], 'setosa'),\n",
       " ([5.0, 3.4, 1.5, 0.2], 'setosa'),\n",
       " ([4.4, 2.9, 1.4, 0.2], 'setosa')]"
      ]
     },
     "execution_count": 4,
     "metadata": {},
     "output_type": "execute_result"
    }
   ],
   "source": [
    "train.take(5)"
   ]
  },
  {
   "cell_type": "markdown",
   "metadata": {
    "collapsed": true
   },
   "source": [
    "# K Nearest Neighbors"
   ]
  },
  {
   "cell_type": "code",
   "execution_count": 6,
   "metadata": {},
   "outputs": [],
   "source": [
    "from sklearn.neighbors import KNeighborsClassifier\n",
    "knn = KNeighborsClassifier().fit(train.keys().collect(), \n",
    "                                 train.values().collect())"
   ]
  },
  {
   "cell_type": "code",
   "execution_count": 12,
   "metadata": {},
   "outputs": [
    {
     "name": "stdout",
     "output_type": "stream",
     "text": [
      "[('setosa', 'setosa'),\n",
      " ('setosa', 'setosa'),\n",
      " ('setosa', 'setosa'),\n",
      " ('setosa', 'setosa'),\n",
      " ('setosa', 'setosa'),\n",
      " ('setosa', 'setosa'),\n",
      " ('setosa', 'setosa'),\n",
      " ('setosa', 'setosa'),\n",
      " ('setosa', 'setosa'),\n",
      " ('setosa', 'setosa'),\n",
      " ('setosa', 'setosa'),\n",
      " ('setosa', 'setosa'),\n",
      " ('setosa', 'setosa'),\n",
      " ('setosa', 'setosa'),\n",
      " ('setosa', 'setosa'),\n",
      " ('versicolor', 'versicolor'),\n",
      " ('versicolor', 'versicolor'),\n",
      " ('versicolor', 'versicolor'),\n",
      " ('versicolor', 'versicolor'),\n",
      " ('versicolor', 'versicolor'),\n",
      " ('versicolor', 'versicolor'),\n",
      " ('versicolor', 'versicolor'),\n",
      " ('versicolor', 'versicolor'),\n",
      " ('versicolor', 'versicolor'),\n",
      " ('virginica', 'versicolor'),\n",
      " ('versicolor', 'versicolor'),\n",
      " ('versicolor', 'versicolor'),\n",
      " ('versicolor', 'versicolor'),\n",
      " ('versicolor', 'versicolor'),\n",
      " ('versicolor', 'versicolor'),\n",
      " ('virginica', 'virginica'),\n",
      " ('virginica', 'virginica'),\n",
      " ('virginica', 'virginica'),\n",
      " ('virginica', 'virginica'),\n",
      " ('virginica', 'virginica'),\n",
      " ('virginica', 'virginica'),\n",
      " ('virginica', 'virginica'),\n",
      " ('virginica', 'virginica'),\n",
      " ('virginica', 'virginica'),\n",
      " ('virginica', 'virginica'),\n",
      " ('virginica', 'virginica'),\n",
      " ('virginica', 'virginica'),\n",
      " ('virginica', 'virginica'),\n",
      " ('virginica', 'virginica'),\n",
      " ('virginica', 'virginica'),\n",
      " ('virginica', 'virginica')]\n"
     ]
    }
   ],
   "source": [
    "import pprint\n",
    "pprint.pprint(list(zip(\n",
    "    knn.predict(test.keys().collect()),\n",
    "    test.values().collect(),\n",
    ")))"
   ]
  },
  {
   "cell_type": "code",
   "execution_count": null,
   "metadata": {
    "collapsed": true
   },
   "outputs": [],
   "source": []
  }
 ],
 "metadata": {
  "kernelspec": {
   "display_name": "Python 2",
   "language": "python",
   "name": "python2"
  },
  "language_info": {
   "codemirror_mode": {
    "name": "ipython",
    "version": 2
   },
   "file_extension": ".py",
   "mimetype": "text/x-python",
   "name": "python",
   "nbconvert_exporter": "python",
   "pygments_lexer": "ipython2",
   "version": "2.7.13"
  }
 },
 "nbformat": 4,
 "nbformat_minor": 1
}
